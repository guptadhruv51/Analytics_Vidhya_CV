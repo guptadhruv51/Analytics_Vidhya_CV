{
 "cells": [
  {
   "cell_type": "code",
   "execution_count": 41,
   "metadata": {},
   "outputs": [],
   "source": [
    "text_file=open('dataset/conv.txt','r')\n",
    "lines=text_file.readlines()"
   ]
  },
  {
   "cell_type": "code",
   "execution_count": 50,
   "metadata": {},
   "outputs": [
    {
     "name": "stdout",
     "output_type": "stream",
     "text": [
      "Number of unique Characters are: 17\n"
     ]
    }
   ],
   "source": [
    "ls=[]\n",
    "for line in lines:\n",
    "    ls.append(line.split(':')[0])\n",
    "ls1=[i for i in ls if i!='\\n']\n",
    "print(\"Number of unique Characters are:\",len(set(ls1)))"
   ]
  },
  {
   "cell_type": "code",
   "execution_count": 59,
   "metadata": {},
   "outputs": [],
   "source": [
    "dict_1={}\n",
    "for line in lines:\n",
    "    if line.split(':')[0] not in dict_1.keys() and line.split(':')[0]!='\\n':\n",
    "        dict_1[line.split(':')[0]]=line.split(':')[1]\n",
    "    elif line.split(':')[0] in dict_1.keys() and line.split(':')[0]!='\\n':\n",
    "        dict_1[line.split(':')[0]]=dict_1[line.split(':')[0]]+line.split(':')[1]"
   ]
  },
  {
   "cell_type": "code",
   "execution_count": 80,
   "metadata": {},
   "outputs": [],
   "source": [
    "for i in dict_1.keys():\n",
    "    file_name='dataset/'+i\n",
    "    my_file=open(i,'w')\n",
    "    for j in list(set(dict_1[i].split())):\n",
    "        my_file.writelines(j+'\\n')"
   ]
  },
  {
   "cell_type": "code",
   "execution_count": null,
   "metadata": {},
   "outputs": [],
   "source": []
  },
  {
   "cell_type": "code",
   "execution_count": null,
   "metadata": {},
   "outputs": [],
   "source": []
  }
 ],
 "metadata": {
  "kernelspec": {
   "display_name": "Python 3",
   "language": "python",
   "name": "python3"
  },
  "language_info": {
   "codemirror_mode": {
    "name": "ipython",
    "version": 3
   },
   "file_extension": ".py",
   "mimetype": "text/x-python",
   "name": "python",
   "nbconvert_exporter": "python",
   "pygments_lexer": "ipython3",
   "version": "3.6.9"
  }
 },
 "nbformat": 4,
 "nbformat_minor": 4
}
