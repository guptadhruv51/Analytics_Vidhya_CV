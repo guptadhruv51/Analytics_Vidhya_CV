{
 "cells": [
  {
   "cell_type": "markdown",
   "metadata": {},
   "source": [
    "**Analytics Vidhya conducted an assessment test to hire a Data Scientist. The candidates were evaluated on 5 different subjects A, B, C, D, and E. The marks of 5 different subjects out of 100 are given below. Help Analytics Vidhya to find out the answers of the following questions.**"
   ]
  },
  {
   "cell_type": "code",
   "execution_count": 3,
   "metadata": {},
   "outputs": [],
   "source": [
    "student_marks=[['Name',['A','B','C','D','E']],\n",
    "              ['Ankit',[41,34,45,55,63]],\n",
    "              ['Aravind',[42,23,34,44,53]],\n",
    "              ['Lakshay',[32,23,13,54,67]],\n",
    "              ['Gyan',[23,82,23,63,34]],\n",
    "              ['Pranav',[21,23,25,56,56]]]"
   ]
  },
  {
   "cell_type": "code",
   "execution_count": 11,
   "metadata": {},
   "outputs": [
    {
     "name": "stdout",
     "output_type": "stream",
     "text": [
      "Highest marks in B are scored by: Gyan\n"
     ]
    }
   ],
   "source": [
    "marks_in_B=[]\n",
    "for student in student_marks[1:]:\n",
    "    marks_in_B.append([student[1][1],student[0]])\n",
    "print(\"Highest marks in B are scored by:\",sorted(marks_in_B,reverse=True)[0][1])"
   ]
  },
  {
   "cell_type": "code",
   "execution_count": 12,
   "metadata": {},
   "outputs": [
    {
     "name": "stdout",
     "output_type": "stream",
     "text": [
      "Average Marks in C are: 28.0\n"
     ]
    }
   ],
   "source": [
    "total=0\n",
    "for student in student_marks[1:]:\n",
    "    total=total+student[1][2]\n",
    "print(\"Average Marks in C are:\",total/(len(student_marks[1:])))    "
   ]
  },
  {
   "cell_type": "code",
   "execution_count": 32,
   "metadata": {},
   "outputs": [
    {
     "name": "stdout",
     "output_type": "stream",
     "text": [
      "Highest Percentage Marks:  Ankit\n"
     ]
    }
   ],
   "source": [
    "percent_marks=[]\n",
    "for student in student_marks[1:]:\n",
    "    percent_marks.append([sum(student[1])/5,student[0]])\n",
    "print(\"Highest Percentage Marks: \",sorted(percent_marks,reverse=True)[0][1]) "
   ]
  },
  {
   "cell_type": "code",
   "execution_count": 39,
   "metadata": {},
   "outputs": [
    {
     "name": "stdout",
     "output_type": "stream",
     "text": [
      "Highest Percentage Marks (Top 4):  Ankit\n"
     ]
    }
   ],
   "source": [
    "percent_marks=[]\n",
    "for student in student_marks[1:]:\n",
    "    percent_marks.append([sum(sorted(student[1])[1:])/4,student[0]])\n",
    "print(\"Highest Percentage Marks (Top 4): \",sorted(percent_marks,reverse=True)[0][1])     "
   ]
  }
 ],
 "metadata": {
  "kernelspec": {
   "display_name": "Python 3",
   "language": "python",
   "name": "python3"
  },
  "language_info": {
   "codemirror_mode": {
    "name": "ipython",
    "version": 3
   },
   "file_extension": ".py",
   "mimetype": "text/x-python",
   "name": "python",
   "nbconvert_exporter": "python",
   "pygments_lexer": "ipython3",
   "version": "3.6.9"
  }
 },
 "nbformat": 4,
 "nbformat_minor": 4
}
